{
 "cells": [
  {
   "cell_type": "code",
   "execution_count": null,
   "id": "dc1c003c-e57a-4e51-887a-671c5b36738a",
   "metadata": {
    "id": "e5a991e0-7be0-4a67-b622-d290749df0a2",
    "tags": []
   },
   "outputs": [],
   "source": []
  }
 ],
 "metadata": {
  "kernelspec": {
   "display_name": "Python 3.10",
   "language": "python",
   "name": "python3"
  },
  "language_info": {
   "codemirror_mode": {
    "name": "ipython",
    "version": 3
   },
   "file_extension": ".py",
   "mimetype": "text/x-python",
   "name": "python",
   "nbconvert_exporter": "python",
   "pygments_lexer": "ipython3",
   "version": "3.10.6"
  }
 },
 "nbformat": 4,
 "nbformat_minor": 5
}
